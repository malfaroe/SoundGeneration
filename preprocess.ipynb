{
 "cells": [
  {
   "cell_type": "code",
   "execution_count": 16,
   "metadata": {},
   "outputs": [],
   "source": [
    "#Data preprocessing tutorial implementation\n",
    "#Url: https://youtu.be/coEgwnMBuo0\n",
    "import music21 as m21\n",
    "import os"
   ]
  },
  {
   "cell_type": "code",
   "execution_count": 17,
   "metadata": {},
   "outputs": [],
   "source": [
    "#Path: C:\\Users\\malfaro\\Desktop\\mae_code\\SoundGeneration\n"
   ]
  },
  {
   "cell_type": "code",
   "execution_count": 18,
   "metadata": {},
   "outputs": [],
   "source": [
    "#Select all the .kern files and load them together using m21\n",
    "DATASET_PATH = \"Users\\malfaro\\Desktop\\mae_code\\SoundGeneration\\data\\deutschl\\test\"\n",
    "\n",
    "def load_songs_in_kern(dataset_path):\n",
    "   songs = []\n",
    "   for path, subdirs, files in os.walk(dataset_path):\n",
    "        for file in files:\n",
    "           if file[-3:] == \"krn\":\n",
    "               song = m21.converter.parse(os.path.join(path, file))\n",
    "               songs.append(song)\n",
    "\n",
    "   return songs\n",
    "                       "
   ]
  },
  {
   "cell_type": "code",
   "execution_count": 19,
   "metadata": {},
   "outputs": [
    {
     "data": {
      "text/plain": [
       "[]"
      ]
     },
     "execution_count": 19,
     "metadata": {},
     "output_type": "execute_result"
    }
   ],
   "source": [
    "load_songs_in_kern(DATASET_PATH)"
   ]
  },
  {
   "cell_type": "code",
   "execution_count": null,
   "metadata": {},
   "outputs": [],
   "source": []
  }
 ],
 "metadata": {
  "kernelspec": {
   "display_name": "Python 3",
   "language": "python",
   "name": "python3"
  },
  "language_info": {
   "codemirror_mode": {
    "name": "ipython",
    "version": 3
   },
   "file_extension": ".py",
   "mimetype": "text/x-python",
   "name": "python",
   "nbconvert_exporter": "python",
   "pygments_lexer": "ipython3",
   "version": "3.7.7"
  }
 },
 "nbformat": 4,
 "nbformat_minor": 4
}
