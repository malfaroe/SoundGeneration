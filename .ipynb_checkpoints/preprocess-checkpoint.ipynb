{
 "cells": [
  {
   "cell_type": "code",
   "execution_count": 1,
   "metadata": {},
   "outputs": [],
   "source": [
    "#Data preprocessing tutorial implementation\n",
    "#Url: https://youtu.be/coEgwnMBuo0\n",
    "\n",
    "import music21 as m21\n",
    "import os"
   ]
  },
  {
   "cell_type": "code",
   "execution_count": 2,
   "metadata": {},
   "outputs": [
    {
     "data": {
      "text/plain": [
       "'Steps\\n1. Load data\\n2. Filter songs with no acceptable duration\\n3. Transpose songs yo cmaj/Amin\\n4. Encode songs with music time series representation\\n5. save songs to text file'"
      ]
     },
     "execution_count": 2,
     "metadata": {},
     "output_type": "execute_result"
    }
   ],
   "source": [
    "\"\"\"Steps\n",
    "1. Load data\n",
    "2. Filter songs with no acceptable duration\n",
    "3. Transpose songs yo cmaj/Amin\n",
    "4. Encode songs with music time series representation\n",
    "5. save songs to text file\"\"\""
   ]
  },
  {
   "cell_type": "code",
   "execution_count": 3,
   "metadata": {},
   "outputs": [],
   "source": [
    "#Path: C:\\Users\\malfaro\\Desktop\\mae_code\\SoundGeneration\n"
   ]
  },
  {
   "cell_type": "code",
   "execution_count": 17,
   "metadata": {},
   "outputs": [
    {
     "name": "stdout",
     "output_type": "stream",
     "text": [
      "Loaded 12 songs!\n",
      "Has acceptable duration? True\n",
      "Original key: e minor\n"
     ]
    }
   ],
   "source": [
    "#1. Data loading\n",
    "DATASET_PATH = r\"C:\\Users\\malfaro\\Desktop\\mae_code\\SoundGeneration\\data\\essen\\europa\\deutschl\\test\"\n",
    "\n",
    "\n",
    "\n",
    "#Go through all the .kern files and load them together using m21\n",
    "def load_songs_in_kern(dataset_path):\n",
    "   songs = []\n",
    "   for path, subdirs, files in os.walk(dataset_path):\n",
    "        for file in files:\n",
    "           if file[-3:] == \"krn\":\n",
    "               song = m21.converter.parse(os.path.join(path, file))\n",
    "               songs.append(song)\n",
    "\n",
    "   return songs\n",
    "\n",
    "def preprocess(dataset_path):\n",
    "    print(\"Loading songs...\")\n",
    "    songs = load_songs_in_kern(dataset_path)\n",
    "    print(f\"Loaded {len(songs)} songs!\")\n",
    "              \n",
    "              \n",
    "#2. Filter by acceptable duration\n",
    "\n",
    "ACCEPTABLE_DURATIONS = [0.25, 0.5, 0.75, 1, 1.5, 2, 3, 4]\n",
    "\n",
    "def has_acceptable_duration(song, acceptable_durations):\n",
    "    \"\"\"Boolean method for checking if the songs complies with duration.\n",
    "    Se considera como referncia una negra (quarter length)\n",
    "    redonda = whole note = 4\n",
    "    blanca = half note = 2\n",
    "    blanca con punto = 3\n",
    "    negra = quarter note = 1\n",
    "    negra con punto = 1.5\n",
    "    corchea = eigth note = 0.5\n",
    "    corchea con punt0 = 0.75\n",
    "    semicorchea = sixteenth note = 0.25\n",
    "    \"\"\"\n",
    "    for note in song.flat.notesAndRests: \n",
    "        #flat toma todos los objetos de la cancion, los convierte en lista\n",
    "        #notesAndRests deja solo las notas y silencios, excluyendo claves, simolos, etc\n",
    "        if note.duration.quarterLength not in acceptable_durations:\n",
    "            return False\n",
    "        \n",
    "        return True\n",
    "    \n",
    "def transpose(song):\n",
    "    \"\"\"\n",
    "    - Detect the key or estimate it using music21\n",
    "    - get the interval or distance necessary to transpose to Cmaj/Amin\n",
    "    - transpose using m21 if necessary\"\"\"\n",
    "    #Get the song key\n",
    "    #usually the key is in the first measure of the song\n",
    "    parts = song.getElementsByClass(m21.stream.Part) #extracts all the elements by part\n",
    "    #go to the first part and take all the measures in part 0\n",
    "    measures_part0 = parts[0].getElementsByClass(m21.stream.Measure)\n",
    "    key = measures_part0[0][4] #tomo la primera parte de measures y extraigo de esa lista el elemento 4 que es key\n",
    "    \n",
    "    #In case the key is not in the song we use m21 to estimate it\n",
    "    \n",
    "    if not isinstance(key, m21.key.Key):#if the song doesnt have a key stored\n",
    "        key = song.analyze(\"key\") #estimate it...\n",
    "    #Now transpose to cmaj or A minor depending on the mode of the song...\n",
    "    if key.mode == \"major\":\n",
    "        interval = m21.interval.Interval(key.tonic, m21.pitch.Pitch(\"C\")) #calculates the interval\n",
    "        \n",
    "    elif key.mode == \"minor\":\n",
    "        interval = m21.interval.Interval(key.tonic, m21.pitch.Pitch(\"A \")) #calculates the interval\n",
    "    \n",
    "    print(\"Original key:\", key)\n",
    "    #transpose de song\n",
    "    transposed_song = song.transpose(interval)\n",
    "    \n",
    "    \n",
    "    return transposed_song\n",
    "\n",
    "        \n",
    "    \n",
    "    \n",
    "def preprocess(dataset_path):\n",
    "    print(\"Loading songs...\")\n",
    "    songs = load_songs_in_kern(dataset_path)\n",
    "    print(f\"Loaded {len(songs)} songs!\")\n",
    "    #Filter by duration\n",
    "    for song in songs:\n",
    "        if not has_acceptable_duration(song, ACCEPTABLE_DURATIONS):\n",
    "            continue #si la cancion no cumple la ignora\n",
    "        #Transpose song\n",
    "        song = transpose(song)\n",
    "        # Encode songs with music time series representation\n",
    "        \n",
    "    \n",
    "    \n",
    "              \n",
    "  \n",
    "\n",
    "\n",
    "if __name__ == \"__main__\":\n",
    "    songs = load_songs_in_kern(DATASET_PATH)\n",
    "    print(f\"Loaded {len(songs)} songs!\")\n",
    "    song = songs[0]\n",
    "    print(f\"Has acceptable duration? {has_acceptable_duration(song, ACCEPTABLE_DURATIONS)}\")\n",
    "    \n",
    "    transposed_song = transpose(song)\n"
   ]
  },
  {
   "cell_type": "code",
   "execution_count": 14,
   "metadata": {},
   "outputs": [
    {
     "name": "stdout",
     "output_type": "stream",
     "text": [
      "Loaded 12 songs!\n"
     ]
    },
    {
     "data": {
      "text/plain": [
       "<music21.key.Key of e minor>"
      ]
     },
     "execution_count": 14,
     "metadata": {},
     "output_type": "execute_result"
    }
   ],
   "source": [
    "songs = load_songs_in_kern(DATASET_PATH)\n",
    "print(f\"Loaded {len(songs)} songs!\")\n",
    "song = songs[0]\n"
   ]
  },
  {
   "cell_type": "code",
   "execution_count": null,
   "metadata": {},
   "outputs": [],
   "source": [
    "#Ver los archivos de un directorio con os\n",
    "files = os.listdir(DATASET_PATH)\n",
    "for f in files:\n",
    "    print(f)"
   ]
  },
  {
   "cell_type": "code",
   "execution_count": null,
   "metadata": {},
   "outputs": [],
   "source": [
    "#Ver ruta actual\n",
    "os.getcwd()"
   ]
  },
  {
   "cell_type": "code",
   "execution_count": null,
   "metadata": {},
   "outputs": [],
   "source": []
  },
  {
   "cell_type": "code",
   "execution_count": null,
   "metadata": {},
   "outputs": [],
   "source": []
  }
 ],
 "metadata": {
  "kernelspec": {
   "display_name": "Python 3",
   "language": "python",
   "name": "python3"
  },
  "language_info": {
   "codemirror_mode": {
    "name": "ipython",
    "version": 3
   },
   "file_extension": ".py",
   "mimetype": "text/x-python",
   "name": "python",
   "nbconvert_exporter": "python",
   "pygments_lexer": "ipython3",
   "version": "3.7.7"
  }
 },
 "nbformat": 4,
 "nbformat_minor": 4
}
