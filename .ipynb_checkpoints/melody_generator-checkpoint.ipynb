{
 "cells": [
  {
   "cell_type": "code",
   "execution_count": 2,
   "id": "8cf6f458",
   "metadata": {},
   "outputs": [],
   "source": [
    "import tensorflow.keras as keras\n",
    "import json\n",
    "from preprocess_module import SEQUENCE_LENGTH, MAPPING_PATH"
   ]
  },
  {
   "cell_type": "code",
   "execution_count": 13,
   "id": "f8782943",
   "metadata": {},
   "outputs": [],
   "source": [
    "\n",
    "\n",
    "class Melody_generator():\n",
    "    def __init__(self, model_path = \"model.h5\"):\n",
    "        self.model_path = model_path\n",
    "        self.model = keras.models.load_model(model_path)\n",
    "        self._start_symbols = [\"/\"] * SEQUENCE_LENGTH #indicador de inicio de nueva cancion        \n",
    "        \n",
    "        #loading the dictionary of mappings..\n",
    "        with open(MAPPING_PATH, \"r\") as fp:\n",
    "            self._mappings = json.load(fp)\n",
    "            \n",
    "    \n",
    "    def generate_melody(self, num_steps, max_sequence_length, temperature):\n",
    "        \"\"\"seed: trozo de lmelodia que sera el input para que el modelo\n",
    "        le genere una continuacion. Ej: 64_63_ _ r_47\n",
    "        num_steps: largo que va a tener esta continuacion\n",
    "        que la red va a generar como output de cada input \n",
    "        max_sequence_length: maximo largo que puede tener un input (seed). En este\n",
    "        caso será 64 steps o 4 compases de 4/4\n",
    "        temperature: xxxx\"\"\"\n",
    "        #Create a seed with a start symbol\n",
    "        seed = seed.split() #convierto seed a una lista\n",
    "        #creo una lista contenedora donde se guardara la melodia que se genere\n",
    "        #Parte como siempre con la secuencia de inicio..\n",
    "        seed = self._start_symbols + seed\n",
    "        melody = seed\n",
    "        \n",
    "        #Map seed to integers (translate to integers using the vocabulary)\n",
    "        seed = [self._mappings[symbol]  for symbol in seed]   \n",
    "        \n",
    "        for _ in range(num_steps):\n",
    "            #limit the seed to max_sequence_length\n",
    "            #toma los ultimos max_sequence_length steps (en este caso 64)\n",
    "            seed = seed[-max_sequence_length:]\n",
    "        \n",
    "        pass"
   ]
  },
  {
   "cell_type": "code",
   "execution_count": null,
   "id": "67b2fc6e",
   "metadata": {},
   "outputs": [],
   "source": []
  }
 ],
 "metadata": {
  "kernelspec": {
   "display_name": "Python 3 (ipykernel)",
   "language": "python",
   "name": "python3"
  },
  "language_info": {
   "codemirror_mode": {
    "name": "ipython",
    "version": 3
   },
   "file_extension": ".py",
   "mimetype": "text/x-python",
   "name": "python",
   "nbconvert_exporter": "python",
   "pygments_lexer": "ipython3",
   "version": "3.7.11"
  },
  "toc": {
   "base_numbering": 1,
   "nav_menu": {},
   "number_sections": true,
   "sideBar": true,
   "skip_h1_title": false,
   "title_cell": "Table of Contents",
   "title_sidebar": "Contents",
   "toc_cell": false,
   "toc_position": {},
   "toc_section_display": true,
   "toc_window_display": false
  }
 },
 "nbformat": 4,
 "nbformat_minor": 5
}
